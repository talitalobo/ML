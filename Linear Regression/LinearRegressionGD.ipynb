{
 "cells": [
  {
   "cell_type": "markdown",
   "metadata": {},
   "source": [
    "** Linear Regression Implementation **\n",
    "\n",
    "----\n",
    "\n",
    "Original code by Siraj Raval https://github.com/llSourcell/linear_regression_live"
   ]
  },
  {
   "cell_type": "code",
   "execution_count": 1,
   "metadata": {
    "scrolled": true
   },
   "outputs": [
    {
     "name": "stdout",
     "output_type": "stream",
     "text": [
      "Running...\n",
      "SSE :  103.398422917\n",
      "Equation: y =  3.2621822676 x +  -0.182342553765\n"
     ]
    }
   ],
   "source": [
    "from numpy import *\n",
    "\n",
    "# Coding linear regression from scratch to exaplain gradiend descent\n",
    "\n",
    "def compute_error_for_points(b, m, points):\n",
    "    # error, loss\n",
    "    # sum of the squared errors sse\n",
    "    \n",
    "    totalError = 0\n",
    "    for i in range(0, len(points)):\n",
    "        x = points[i, 0]\n",
    "        y = points[i, 1]\n",
    "        totalError += (y - (m * x + b)) **2\n",
    "        \n",
    "    averageError = totalError/float(len(points))\n",
    "    return averageError\n",
    "\n",
    "    \n",
    "def step_gradient(b_current, m_current, points, learning_rate):\n",
    "    # how gradient descent works\n",
    "    b_gradient = 0\n",
    "    m_gradient = 0\n",
    "    N = float(len(points))\n",
    "    \n",
    "    for i in range(0, len(points)):\n",
    "        x = points[i,0]\n",
    "        y = points[i,1]\n",
    "        \n",
    "        b_gradient += -(2/N) * (y - ((m_current * x) + b_current))\n",
    "        m_gradient += -(2/N) * x * (y - ((m_current * x) + b_current))\n",
    "        \n",
    "    new_b = b_current - (learning_rate * b_gradient)\n",
    "    new_m = m_current - (learning_rate * m_gradient)\n",
    "    \n",
    "    return [new_b, new_m]\n",
    "\n",
    "\n",
    "def gradient_descent_runner(points, starting_b, starting_m, learning_rate, iterations):\n",
    "    b = starting_b\n",
    "    m = starting_m\n",
    "    \n",
    "    for i in range(iterations):\n",
    "        b,m = step_gradient(b, m, array(points), learning_rate)\n",
    "    return [b,m]\n",
    "\n",
    "\n",
    "def run():\n",
    "    points = genfromtxt('data/income.csv', delimiter = \",\")\n",
    "    \n",
    "    learning_rate = 0.0001 # how fast the model learns\n",
    "    initial_b = 0 # y = mx + b\n",
    "    initial_m = 0\n",
    "    iterations = 1000\n",
    "    \n",
    "    #print(\"Starting graient descent at b = {0}, m = {1}, error = {2}\".format(initial_b, initial_m, compute_error_for_line_given_points(initial_b, initial_m, points)))\n",
    "    print(\"Running...\")\n",
    "    \n",
    "    [b, m] = gradient_descent_runner(points, initial_b, initial_m, learning_rate, iterations)\n",
    "    \n",
    "    print(\"SSE : \", compute_error_for_points(b, m, points))\n",
    "    print(\"Equation: y = \", m, \"x + \", b)\n",
    "    \n",
    "    #print(\"After {0} iterations b = {1}, m = {2}, error = {3}\".format(num_iterations, b, m, compute_error_for_line_given_points(b, m, points)))\n",
    "\n",
    "if __name__ == \"__main__\":\n",
    "    run()"
   ]
  },
  {
   "cell_type": "markdown",
   "metadata": {},
   "source": [
    "**Answer the following questions**\n",
    "\n",
    "2.Modifique o código original para imprimir o RSS a cada iteração do gradiente descendente."
   ]
  },
  {
   "cell_type": "code",
   "execution_count": 2,
   "metadata": {},
   "outputs": [
    {
     "name": "stdout",
     "output_type": "stream",
     "text": [
      "Equation: y =  3.453929781 x +  -3.40347631759\n"
     ]
    }
   ],
   "source": [
    "import sys\n",
    "from numpy import *\n",
    "\n",
    "\n",
    "def rss_data(error, iteration):\n",
    "    with open(\"rss.csv\", \"a+\") as rss:\n",
    "        rss.write(str(error) + ',' + str(iteration) + '\\n')\n",
    "        print(str(error) + ',' + str(iteration))\n",
    "    rss.close() \n",
    "\n",
    "\n",
    "def compute_error_for_points(b, m, points):\n",
    "    # error, loss\n",
    "    # sum of the squared errors sse\n",
    "    \n",
    "    totalError = 0\n",
    "    for i in range(0, len(points)):\n",
    "        x = points[i, 0]\n",
    "        y = points[i, 1]\n",
    "        totalError += (y - (m * x + b)) **2\n",
    "        \n",
    "    averageError = totalError/float(len(points))\n",
    "    return averageError\n",
    "\n",
    "\n",
    "def step_gradient(b_current, m_current, points, learning_rate):\n",
    "    # how gradient descent works\n",
    "    b_gradient = 0\n",
    "    m_gradient = 0\n",
    "    N = float(len(points))\n",
    "    \n",
    "    for i in range(0, len(points)):\n",
    "        x = points[i,0]\n",
    "        y = points[i,1]\n",
    "        \n",
    "        b_gradient += -(2/N) * (y - ((m_current * x) + b_current))\n",
    "        m_gradient += -(2/N) * x * (y - ((m_current * x) + b_current))\n",
    "        \n",
    "    new_b = b_current - (learning_rate * b_gradient)\n",
    "    new_m = m_current - (learning_rate * m_gradient)\n",
    "    \n",
    "    return [new_b, new_m]\n",
    "\n",
    "\n",
    "def gradient_descent_runner(points, starting_b, starting_m, learning_rate, iterations):\n",
    "    b = starting_b\n",
    "    m = starting_m\n",
    "    \n",
    "    for i in range(iterations):\n",
    "        b,m = step_gradient(b, m, array(points), learning_rate)\n",
    "        error = compute_error_for_points(b, m, points)\n",
    "        #print(\"RSS: \", error)\n",
    "        rss_data(error, i)\n",
    "    return [b,m]\n",
    "\n",
    "\n",
    "def run(learningRate, numIterations):\n",
    "    points = genfromtxt('data/income.csv', delimiter = \",\")\n",
    "    \n",
    "    learning_rate = learningRate \n",
    "    initial_b = 0 # y = mx + b\n",
    "    initial_m = 0\n",
    "    iterations = numIterations\n",
    "    \n",
    "    [b, m] = gradient_descent_runner(points, initial_b, initial_m, learning_rate, iterations)\n",
    "    \n",
    "    #print(\"RSS : \", compute_error_for_points(b, m, points))\n",
    "    print(\"Equation: y = \", m, \"x + \", b)\n",
    "    \n",
    "\n",
    "if __name__ == \"__main__\":\n",
    "    run(0.001, 1000)"
   ]
  },
  {
   "cell_type": "markdown",
   "metadata": {},
   "source": [
    "3.O que acontece com o RSS ao longo das iterações (aumenta ou diminui) se você usar 1000 iterações e um learning_rate (tamanho do passo do gradiente) de 0.001? Por que você acha que isso acontece?"
   ]
  },
  {
   "cell_type": "code",
   "execution_count": 13,
   "metadata": {},
   "outputs": [],
   "source": [
    "# celula para grafico do rss\n",
    "#from ggplot import *"
   ]
  },
  {
   "cell_type": "markdown",
   "metadata": {},
   "source": [
    "4.Teste valores diferentes do número de iterações e learning_rate até que w0 e w1 sejam aproximadamente iguais a -39 e 5 respectivamente. Reporte os valores do número de iterações e learning_rate usados para atingir esses valores.\n",
    "\n"
   ]
  },
  {
   "cell_type": "markdown",
   "metadata": {},
   "source": [
    "5.O algoritmo do vídeo usa o número de iterações como critério de parada. Mude o algoritmo para considerar um critério de tolerância que é comparado ao tamanho do gradiente (como no algoritmo dos slides apresentados em sala).\n",
    "\n"
   ]
  },
  {
   "cell_type": "markdown",
   "metadata": {},
   "source": [
    "6.Ache um valor de tolerância que se aproxime dos valores dos parâmetros do item 4 acima. Que valor foi esse?"
   ]
  },
  {
   "cell_type": "markdown",
   "metadata": {},
   "source": []
  }
 ],
 "metadata": {
  "kernelspec": {
   "display_name": "Python 3",
   "language": "python",
   "name": "python3"
  },
  "language_info": {
   "codemirror_mode": {
    "name": "ipython",
    "version": 3
   },
   "file_extension": ".py",
   "mimetype": "text/x-python",
   "name": "python",
   "nbconvert_exporter": "python",
   "pygments_lexer": "ipython3",
   "version": "3.4.3"
  }
 },
 "nbformat": 4,
 "nbformat_minor": 2
}
